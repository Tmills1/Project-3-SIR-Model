{
  "cells": [
    {
      "cell_type": "markdown",
      "id": "7987fdaf-7f7c-4470-8eda-76286e953964",
      "metadata": {
        "id": "7987fdaf-7f7c-4470-8eda-76286e953964"
      },
      "source": [
        "# Pandemic! Control a Pandemic Disease before it Runs Rampant\n",
        " <br>\n",
        "\n",
        "\n",
        "A SIR model is an epidemiological model that computes the theoretical number of people infected with a contagious illness in a closed population over time. The name of this class of models derives from the fact that they involve coupled equations relating the number of susceptible people S(t), number of people infected I(t), and number of people who have recovered R(t).<br>\n",
        "\n",
        "<img src=\"images/SIR-model.png\" style=\"border: solid 2px black;\"></img>\n",
        "\n",
        "In this model, we've introduced 2 object classes, the Person Object, and the Population Object - essentially a collection of People. <br>\n",
        "\n",
        "We will use a simple model where a person can be:\n",
        "- susceptible: they are healthy, but can be infected;\n",
        "- sick: when they are sick, they can infect other people;\n",
        "- recovered: they have been sick, but no longer carry the disease, and can not be infected for a\n",
        "second time;\n",
        "- vaccinated: they are healthy, do not carry the disease, and can not be infected\n",
        "\n",
        "There will be a patient zero.<br><br>\n",
        "Some assumptions:\n",
        "- When a Person interacts with a Person with the status of \"sick\", that Person then has a 10% chance of becoming sick themselves.\n",
        "- Each Person interacts with the same constant number of people\n",
        "- A Person stays sick for 5 days\n",
        "- Once a Persons recovers, they become innoculated\n"
      ]
    },
    {
      "cell_type": "markdown",
      "id": "839c5092-d68e-48a8-94af-022ba960d32c",
      "metadata": {
        "id": "839c5092-d68e-48a8-94af-022ba960d32c"
      },
      "source": [
        "### Person object parameters:\n",
        "\n",
        "#### &#128100; Joe:\n",
        "##### has a state: Suceptable, Infected, Recovered\n",
        "##### has number of days sick &#129319;\n",
        "##### chance of being sick\n"
      ]
    },
    {
      "cell_type": "code",
      "execution_count": null,
      "id": "5eea30be-ad7f-4da0-a86d-665dc2a9146a",
      "metadata": {
        "id": "5eea30be-ad7f-4da0-a86d-665dc2a9146a"
      },
      "outputs": [],
      "source": [
        "import numpy as np\n",
        "import random\n",
        "\n",
        "my_array = np.array"
      ]
    },
    {
      "cell_type": "code",
      "execution_count": null,
      "id": "def204db-e0d2-4a44-ab04-21aa02b9aec3",
      "metadata": {
        "id": "def204db-e0d2-4a44-ab04-21aa02b9aec3"
      },
      "outputs": [],
      "source": [
        "from os import truncate\n",
        "class Person(object):\n",
        "    def __init__(self):\n",
        "        self.status = \"Susceptible\"\n",
        "        self.days_sick = 0\n",
        "        self.sickness_rate = 10\n",
        "        self.Interaction = []\n",
        "        self.masked = False\n",
        "        self.vaccinated = False ## Determines if person is vaccinated\n",
        "\n",
        "    def maskUp(self, wears_mask):\n",
        "        if (wears_mask):\n",
        "            self.set_sickness_rate(self.sickness_rate/2)\n",
        "            self.masked = True\n",
        "\n",
        "    ## When person is vaccinated their current sickness rate reduces to 95%\n",
        "    def isVaccinated(self, got_vaccine):\n",
        "      if (got_vaccine):\n",
        "        self.set_sickness_rate(self.sickness_rate*(1-.95))\n",
        "        self.vaccinated = True\n",
        "\n",
        "    def set_sickness_rate(self, new_rate):\n",
        "        self.sickness_rate = new_rate\n",
        "\n",
        "    def infect(self, number_of_days_sick):\n",
        "        self.status = \"Infected\"\n",
        "        self.days_sick = number_of_days_sick\n",
        "\n",
        "    def recover(self):\n",
        "        self.status = \"Recovered\"\n",
        "        self.days_sick = 0\n",
        "\n",
        "    def update(self):\n",
        "        if (self.status == \"Susceptible\"):\n",
        "            self.roll_for_infection()\n",
        "\n",
        "        elif (self.status == \"Infected\"):\n",
        "            self.days_sick = self.days_sick - 1\n",
        "            if (self.days_sick <= 0):\n",
        "                self.recover()\n",
        "\n",
        "    def update_days_sick(self):\n",
        "        if (self.status == \"Infected\"):\n",
        "            self.days_sick = self.days_sick - 1\n",
        "            if (self.days_sick <= 0):\n",
        "                self.recover()\n",
        "\n",
        "\n",
        "\n",
        "    def roll_for_infection(self):\n",
        "        is_sick = (random.randint(0,101) < self.sickness_rate)\n",
        "        if (is_sick):\n",
        "            self.infect(4)\n",
        "\n",
        ""
      ]
    },
    {
      "cell_type": "markdown",
      "id": "74e87541-e941-4791-a2e9-4c1d513ce595",
      "metadata": {
        "id": "74e87541-e941-4791-a2e9-4c1d513ce595"
      },
      "source": [
        "Let's implement our object,  </br>\n",
        "start w/ instantiating Joe as a Person and Jane as a Person"
      ]
    },
    {
      "cell_type": "code",
      "execution_count": null,
      "id": "9bb17182-04c4-450d-87c8-84deba516ddf",
      "metadata": {
        "colab": {
          "base_uri": "https://localhost:8080/"
        },
        "id": "9bb17182-04c4-450d-87c8-84deba516ddf",
        "outputId": "17137e96-1b73-400c-80c8-d032f49b702b"
      },
      "outputs": [
        {
          "output_type": "stream",
          "name": "stdout",
          "text": [
            "Joe is Susceptible day:1\n",
            "Jane is Susceptible day:1\n",
            "Joe is Susceptible day:2\n",
            "Jane is Susceptible day:2\n",
            "Joe is Susceptible day:3\n",
            "Jane is Susceptible day:3\n",
            "Joe is Susceptible day:4\n",
            "Jane is Susceptible day:4\n",
            "Joe is Susceptible day:5\n",
            "Jane is Susceptible day:5\n",
            "Joe is Susceptible day:6\n",
            "Jane is Susceptible day:6\n",
            "Joe is Susceptible day:7\n",
            "Jane is Susceptible day:7\n",
            "Joe is Susceptible day:8\n",
            "Jane is Susceptible day:8\n",
            "Joe is Susceptible day:9\n",
            "Jane is Susceptible day:9\n",
            "Joe is Susceptible day:10\n",
            "Jane is Susceptible day:10\n",
            "Joe is Susceptible day:11\n",
            "Jane is Susceptible day:11\n",
            "Joe is Infected day:12\n",
            "Jane is Susceptible day:12\n",
            "Joe is Infected day:13\n",
            "Jane is Susceptible day:13\n",
            "Joe is Infected day:14\n",
            "Jane is Susceptible day:14\n",
            "Joe is Infected day:15\n",
            "Jane is Susceptible day:15\n",
            "Joe is Recovered day:16\n",
            "Jane is Susceptible day:16\n",
            "\n",
            "------- reset -------\n",
            "Joe is Susceptible day:1\n",
            "Jane is Susceptible day:1\n",
            "Joe is Susceptible day:2\n",
            "Jane is Susceptible day:2\n",
            "Joe is Infected day:3\n",
            "Jane is Susceptible day:3\n",
            "Joe is Infected day:4\n",
            "Jane is Susceptible day:4\n",
            "Joe is Infected day:5\n",
            "Jane is Susceptible day:5\n",
            "Joe is Infected day:6\n",
            "Jane is Infected day:6\n",
            "Joe is Recovered day:7\n",
            "Jane is Infected day:7\n",
            "Joe is Recovered day:8\n",
            "Jane is Infected day:8\n",
            "Joe is Recovered day:9\n",
            "Jane is Infected day:9\n",
            "Joe is Recovered day:10\n",
            "Jane is Recovered day:10\n"
          ]
        }
      ],
      "source": [
        "Joe = Person()\n",
        "Jane = Person()\n",
        "Jane.set_sickness_rate(10) #jane has a different sickness rate, joe has the default\n",
        "\n",
        "day = 0\n",
        "\n",
        "while (Joe.status != \"Recovered\" or Jane.status != \"Recovered\"):\n",
        "    day = day + 1\n",
        "    Joe.update()\n",
        "    if (Joe.status == \"Infected\" or Jane.status == \"Infected\"):\n",
        "        Jane.update()\n",
        "\n",
        "\n",
        "    print(\"Joe is \" + Joe.status + \" day:\" + str(day))\n",
        "    print(\"Jane is \" + Jane.status + \" day:\" + str(day))\n",
        "\n",
        "    #My conditions didn't happen, let's rerun\n",
        "    #if Joe is recovered and Jane is still susceptable, the condtions for our program weren't met\n",
        "    #run it again!\n",
        "    if (Joe.status == \"Recovered\" and Jane.status == \"Susceptible\"):\n",
        "        Joe.status = \"Susceptible\"\n",
        "        day = 0\n",
        "        print()\n",
        "        print (\"------- reset -------\")\n"
      ]
    },
    {
      "cell_type": "markdown",
      "id": "87359155-ad4f-4530-b3e0-f39f92c98b8a",
      "metadata": {
        "id": "87359155-ad4f-4530-b3e0-f39f92c98b8a"
      },
      "source": [
        "#### &#128101; Now, we're going to create a population of 100 Persons\n"
      ]
    },
    {
      "cell_type": "code",
      "execution_count": null,
      "id": "62245fa8-fc12-445e-bcac-1f74f2ce77ae",
      "metadata": {
        "id": "62245fa8-fc12-445e-bcac-1f74f2ce77ae"
      },
      "outputs": [],
      "source": [
        "my_population = []\n",
        "n = 101\n",
        "for i in range(0,n):\n",
        "    generic_dude = Person()\n",
        "    my_population.append(generic_dude) # we now have a population of 100 people\n",
        ""
      ]
    },
    {
      "cell_type": "code",
      "execution_count": null,
      "id": "304aed05-e388-4606-b946-55dd5e993663",
      "metadata": {
        "colab": {
          "base_uri": "https://localhost:8080/"
        },
        "id": "304aed05-e388-4606-b946-55dd5e993663",
        "outputId": "14efb8ae-540a-46e6-b91c-19407b76b315"
      },
      "outputs": [
        {
          "output_type": "stream",
          "name": "stdout",
          "text": [
            "<class 'list'>\n"
          ]
        }
      ],
      "source": [
        "print (type(my_population))"
      ]
    },
    {
      "cell_type": "code",
      "execution_count": null,
      "id": "89347799-ca95-483e-a75c-e5115f005ef6",
      "metadata": {
        "colab": {
          "base_uri": "https://localhost:8080/"
        },
        "id": "89347799-ca95-483e-a75c-e5115f005ef6",
        "outputId": "df3bd1d9-2701-45c8-bef1-5eeb6059c18e"
      },
      "outputs": [
        {
          "output_type": "stream",
          "name": "stdout",
          "text": [
            "101\n"
          ]
        }
      ],
      "source": [
        "print (len(my_population))"
      ]
    },
    {
      "cell_type": "code",
      "execution_count": null,
      "id": "e5de4a26-6ca5-4e98-9ef1-33d3a4a7b4f9",
      "metadata": {
        "colab": {
          "base_uri": "https://localhost:8080/"
        },
        "id": "e5de4a26-6ca5-4e98-9ef1-33d3a4a7b4f9",
        "outputId": "cdb30a94-6dd4-49bb-b8a2-589ad82aa58a"
      },
      "outputs": [
        {
          "output_type": "stream",
          "name": "stdout",
          "text": [
            "<class '__main__.Person'>\n"
          ]
        }
      ],
      "source": [
        "print (type(my_population[99]))"
      ]
    },
    {
      "cell_type": "code",
      "execution_count": null,
      "id": "f50847da-63e2-41d7-8125-2fe4755c8776",
      "metadata": {
        "colab": {
          "base_uri": "https://localhost:8080/"
        },
        "id": "f50847da-63e2-41d7-8125-2fe4755c8776",
        "outputId": "8dff0037-ecf9-4afb-b77d-2112e3ca1fa0"
      },
      "outputs": [
        {
          "output_type": "stream",
          "name": "stdout",
          "text": [
            "Infected\n"
          ]
        }
      ],
      "source": [
        "my_population[99].infect(10) # Let's see if our code works\n",
        "print (my_population[99].status)"
      ]
    },
    {
      "cell_type": "markdown",
      "id": "a5931a05-246c-4bbb-bc12-134dc9dcb76d",
      "metadata": {
        "id": "a5931a05-246c-4bbb-bc12-134dc9dcb76d"
      },
      "source": [
        "### Let see if we can figure out a way for Persons to interact"
      ]
    },
    {
      "cell_type": "code",
      "execution_count": null,
      "id": "ebd2ec92-24cb-45b2-8389-e7b91d5bbfce",
      "metadata": {
        "colab": {
          "base_uri": "https://localhost:8080/"
        },
        "id": "ebd2ec92-24cb-45b2-8389-e7b91d5bbfce",
        "outputId": "955a93e6-00b1-45aa-9eb5-a09dd605989f"
      },
      "outputs": [
        {
          "output_type": "stream",
          "name": "stdout",
          "text": [
            "Person: 0  interacted with: [91, 95, 69, 71, 97, 84, 19, 62, 100, 10]\n",
            "Person: 1  interacted with: [43, 63, 2, 0, 30, 98, 44, 65, 46, 81]\n",
            "Person: 2  interacted with: [33, 84, 55, 9, 85, 21, 84, 70, 61, 35]\n",
            "Person: 3  interacted with: [60, 2, 54, 73, 86, 86, 41, 82, 21, 13]\n",
            "Person: 4  interacted with: [22, 27, 85, 54, 15, 22, 73, 9, 14, 3]\n",
            "Person: 5  interacted with: [42, 41, 7, 20, 79, 47, 11, 30, 42, 53]\n",
            "Person: 6  interacted with: [69, 27, 73, 61, 9, 96, 71, 80, 68, 91]\n",
            "Person: 7  interacted with: [88, 21, 98, 49, 6, 41, 18, 90, 38, 73]\n",
            "Person: 8  interacted with: [63, 24, 78, 47, 71, 24, 54, 85, 83, 46]\n",
            "Person: 9  interacted with: [78, 19, 86, 38, 13, 0, 56, 24, 88, 57]\n",
            "Person: 10  interacted with: [43, 30, 52, 73, 46, 10, 79, 12, 19, 88]\n",
            "Person: 11  interacted with: [33, 52, 40, 71, 14, 30, 19, 97, 72, 39]\n",
            "Person: 12  interacted with: [59, 16, 30, 88, 67, 92, 82, 40, 88, 72]\n",
            "Person: 13  interacted with: [16, 81, 32, 54, 75, 72, 30, 3, 44, 76]\n",
            "Person: 14  interacted with: [74, 68, 23, 76, 43, 63, 24, 25, 50, 13]\n",
            "Person: 15  interacted with: [6, 48, 0, 45, 2, 77, 84, 51, 5, 54]\n",
            "Person: 16  interacted with: [90, 85, 42, 20, 71, 33, 27, 50, 29, 61]\n",
            "Person: 17  interacted with: [15, 8, 95, 61, 28, 68, 94, 91, 24, 27]\n",
            "Person: 18  interacted with: [23, 12, 6, 27, 24, 81, 52, 52, 61, 49]\n",
            "Person: 19  interacted with: [73, 17, 98, 82, 89, 69, 34, 52, 14, 49]\n",
            "Person: 20  interacted with: [72, 99, 15, 82, 5, 61, 51, 86, 0, 87]\n",
            "Person: 21  interacted with: [21, 0, 36, 20, 68, 55, 93, 12, 49, 39]\n",
            "Person: 22  interacted with: [12, 47, 8, 74, 57, 21, 73, 10, 11, 98]\n",
            "Person: 23  interacted with: [66, 33, 18, 31, 0, 9, 2, 67, 36, 23]\n",
            "Person: 24  interacted with: [23, 71, 89, 28, 43, 1, 45, 23, 32, 91]\n",
            "Person: 25  interacted with: [72, 1, 78, 72, 81, 45, 39, 38, 18, 44]\n",
            "Person: 26  interacted with: [100, 60, 57, 90, 65, 76, 46, 25, 34, 62]\n",
            "Person: 27  interacted with: [48, 70, 87, 24, 18, 54, 12, 69, 55, 17]\n",
            "Person: 28  interacted with: [60, 10, 66, 100, 90, 92, 92, 99, 85, 67]\n",
            "Person: 29  interacted with: [68, 42, 6, 33, 4, 89, 63, 28, 76, 28]\n",
            "Person: 30  interacted with: [98, 3, 41, 68, 75, 69, 78, 66, 23, 75]\n",
            "Person: 31  interacted with: [5, 70, 9, 26, 92, 96, 12, 23, 24, 82]\n",
            "Person: 32  interacted with: [12, 14, 61, 21, 12, 75, 14, 5, 6, 57]\n",
            "Person: 33  interacted with: [26, 5, 99, 28, 68, 12, 57, 62, 25, 54]\n",
            "Person: 34  interacted with: [96, 21, 85, 38, 9, 55, 92, 50, 15, 87]\n",
            "Person: 35  interacted with: [54, 75, 8, 33, 48, 38, 37, 17, 8, 72]\n",
            "Person: 36  interacted with: [99, 29, 94, 49, 27, 92, 18, 30, 35, 39]\n",
            "Person: 37  interacted with: [19, 63, 24, 63, 4, 80, 64, 18, 67, 43]\n",
            "Person: 38  interacted with: [50, 51, 12, 95, 91, 73, 40, 28, 91, 34]\n",
            "Person: 39  interacted with: [50, 94, 6, 21, 16, 25, 74, 12, 29, 15]\n",
            "Person: 40  interacted with: [32, 13, 81, 4, 55, 45, 87, 49, 41, 48]\n",
            "Person: 41  interacted with: [25, 32, 53, 17, 1, 77, 81, 62, 42, 83]\n",
            "Person: 42  interacted with: [27, 58, 13, 83, 6, 94, 28, 94, 21, 42]\n",
            "Person: 43  interacted with: [100, 46, 60, 44, 64, 42, 8, 9, 35, 78]\n",
            "Person: 44  interacted with: [77, 17, 69, 21, 97, 76, 39, 63, 84, 61]\n",
            "Person: 45  interacted with: [59, 11, 77, 25, 91, 62, 79, 18, 65, 13]\n",
            "Person: 46  interacted with: [88, 70, 82, 77, 63, 47, 35, 62, 46, 17]\n",
            "Person: 47  interacted with: [95, 36, 10, 79, 73, 64, 77, 9, 82, 69]\n",
            "Person: 48  interacted with: [26, 19, 14, 49, 94, 59, 70, 82, 51, 26]\n",
            "Person: 49  interacted with: [20, 38, 16, 63, 83, 52, 56, 1, 88, 26]\n",
            "Person: 50  interacted with: [59, 73, 62, 27, 33, 55, 94, 63, 54, 85]\n",
            "Person: 51  interacted with: [44, 18, 41, 47, 74, 12, 6, 34, 43, 64]\n",
            "Person: 52  interacted with: [36, 40, 2, 83, 27, 60, 21, 9, 65, 80]\n",
            "Person: 53  interacted with: [63, 84, 12, 0, 31, 62, 65, 91, 98, 41]\n",
            "Person: 54  interacted with: [25, 12, 18, 99, 39, 74, 15, 34, 18, 21]\n",
            "Person: 55  interacted with: [14, 34, 26, 54, 64, 61, 61, 51, 33, 34]\n",
            "Person: 56  interacted with: [86, 19, 24, 9, 94, 79, 33, 100, 51, 56]\n",
            "Person: 57  interacted with: [15, 0, 84, 58, 98, 46, 50, 56, 2, 14]\n",
            "Person: 58  interacted with: [92, 77, 77, 88, 60, 82, 21, 90, 48, 98]\n",
            "Person: 59  interacted with: [11, 57, 52, 56, 78, 86, 67, 80, 40, 17]\n",
            "Person: 60  interacted with: [19, 93, 51, 87, 23, 23, 29, 56, 42, 65]\n",
            "Person: 61  interacted with: [96, 99, 44, 16, 84, 56, 92, 38, 58, 54]\n",
            "Person: 62  interacted with: [53, 24, 6, 41, 37, 68, 43, 83, 69, 17]\n",
            "Person: 63  interacted with: [8, 41, 36, 79, 75, 8, 62, 32, 7, 33]\n",
            "Person: 64  interacted with: [13, 68, 55, 56, 75, 66, 60, 19, 44, 54]\n",
            "Person: 65  interacted with: [55, 94, 13, 91, 78, 87, 70, 65, 92, 20]\n",
            "Person: 66  interacted with: [42, 98, 65, 49, 20, 84, 22, 21, 24, 41]\n",
            "Person: 67  interacted with: [37, 42, 43, 36, 94, 5, 31, 74, 23, 72]\n",
            "Person: 68  interacted with: [74, 21, 56, 78, 73, 69, 70, 27, 31, 45]\n",
            "Person: 69  interacted with: [2, 23, 74, 99, 18, 23, 19, 95, 76, 36]\n",
            "Person: 70  interacted with: [62, 16, 100, 58, 67, 99, 44, 61, 51, 66]\n",
            "Person: 71  interacted with: [57, 57, 64, 53, 5, 59, 83, 23, 47, 79]\n",
            "Person: 72  interacted with: [48, 51, 18, 10, 7, 40, 74, 68, 39, 52]\n",
            "Person: 73  interacted with: [98, 55, 74, 89, 9, 89, 1, 16, 86, 43]\n",
            "Person: 74  interacted with: [68, 24, 69, 61, 72, 51, 89, 47, 12, 75]\n",
            "Person: 75  interacted with: [2, 98, 51, 37, 61, 39, 79, 9, 1, 6]\n",
            "Person: 76  interacted with: [79, 28, 31, 41, 23, 24, 66, 69, 52, 29]\n",
            "Person: 77  interacted with: [90, 95, 56, 42, 29, 60, 17, 76, 53, 53]\n",
            "Person: 78  interacted with: [68, 9, 17, 76, 52, 82, 68, 42, 79, 61]\n",
            "Person: 79  interacted with: [44, 94, 96, 0, 42, 42, 60, 68, 28, 9]\n",
            "Person: 80  interacted with: [95, 2, 32, 66, 19, 77, 87, 40, 40, 3]\n",
            "Person: 81  interacted with: [73, 68, 6, 11, 42, 57, 16, 61, 55, 11]\n",
            "Person: 82  interacted with: [62, 58, 98, 20, 50, 69, 14, 24, 9, 44]\n",
            "Person: 83  interacted with: [14, 30, 100, 75, 81, 60, 41, 5, 99, 84]\n",
            "Person: 84  interacted with: [90, 66, 97, 78, 82, 39, 89, 66, 61, 76]\n",
            "Person: 85  interacted with: [21, 20, 71, 49, 68, 28, 70, 100, 15, 49]\n",
            "Person: 86  interacted with: [85, 82, 64, 43, 27, 97, 77, 10, 3, 91]\n",
            "Person: 87  interacted with: [85, 63, 30, 45, 81, 78, 30, 95, 58, 96]\n",
            "Person: 88  interacted with: [4, 40, 94, 81, 2, 11, 29, 31, 24, 17]\n",
            "Person: 89  interacted with: [73, 88, 21, 58, 45, 77, 3, 57, 85, 86]\n",
            "Person: 90  interacted with: [37, 15, 61, 66, 33, 94, 80, 29, 12, 96]\n",
            "Person: 91  interacted with: [72, 99, 4, 97, 88, 51, 47, 93, 83, 50]\n",
            "Person: 92  interacted with: [5, 26, 73, 98, 63, 75, 20, 49, 80, 90]\n",
            "Person: 93  interacted with: [67, 74, 76, 32, 53, 48, 17, 54, 79, 86]\n",
            "Person: 94  interacted with: [43, 21, 82, 37, 86, 62, 81, 39, 92, 14]\n",
            "Person: 95  interacted with: [21, 67, 88, 22, 47, 56, 44, 13, 70, 14]\n",
            "Person: 96  interacted with: [12, 80, 55, 56, 46, 88, 8, 11, 99, 92]\n",
            "Person: 97  interacted with: [12, 25, 88, 29, 26, 80, 38, 87, 69, 98]\n",
            "Person: 98  interacted with: [82, 56, 32, 44, 2, 40, 87, 81, 66, 4]\n",
            "Person: 99  interacted with: [41, 14, 24, 48, 43, 47, 71, 7, 54, 48]\n",
            "Person: 100  interacted with: [22, 52, 65, 59, 33, 10, 41, 52, 59, 77]\n"
          ]
        }
      ],
      "source": [
        "interactions = []\n",
        "index = -1\n",
        "for p in my_population:\n",
        "    p_interactions = []\n",
        "    for i in range(0,10):\n",
        "        r = random.randint(0,100)\n",
        "        p_interactions.append(r)\n",
        "    interactions.append(p_interactions)\n",
        "\n",
        "for i in interactions:\n",
        "    index = index + 1\n",
        "    print (\"Person:\", index, \" interacted with:\", i)"
      ]
    },
    {
      "cell_type": "markdown",
      "id": "c8c6ea89-cabd-473e-8fda-d53cd94142a2",
      "metadata": {
        "id": "c8c6ea89-cabd-473e-8fda-d53cd94142a2"
      },
      "source": [
        "Randomly Infect 10 people\n",
        "print out the number of people who are sick at the beginning of day 1\n",
        "\n",
        "We're going to simulate Day 1\n",
        "If anyone interacts with these 10 people, they must roll a die to see if they get sick\n",
        "\n",
        "meaning, every sick person that shows up in someones interaction list, that someone rolls to see if they get sick or not.\n",
        "\n",
        "Also, *every* person who shows up in a sick persons interaction list, has to roll to see if they get sick or not.\n",
        "\n",
        "Print out the number of people sick after day 1"
      ]
    },
    {
      "cell_type": "code",
      "execution_count": null,
      "id": "8b2f1750-a781-4c9f-8931-981563f22d0d",
      "metadata": {
        "id": "8b2f1750-a781-4c9f-8931-981563f22d0d"
      },
      "outputs": [],
      "source": [
        "#first thing: infect 10 people\n",
        "\n",
        "#print out the number of people who are sick\n",
        "\n",
        "#look at their interaction lists\n",
        "\n",
        "#If anyone interacts with them, see if they get sick\n",
        "\n",
        "\n"
      ]
    },
    {
      "cell_type": "code",
      "execution_count": null,
      "id": "dba36a2f-59cf-4f30-a376-2066843ffb75",
      "metadata": {
        "colab": {
          "base_uri": "https://localhost:8080/"
        },
        "id": "dba36a2f-59cf-4f30-a376-2066843ffb75",
        "outputId": "95fb0cfa-65ea-4749-de32-93aa7f117423"
      },
      "outputs": [
        {
          "output_type": "stream",
          "name": "stdout",
          "text": [
            "Day 1, number of people sick:10\n",
            "[39, 77, 97, 48, 94, 96, 2, 35, 61, 59]\n",
            "End of Day 1, number of people sick: 40\n",
            "[39, 77, 97, 48, 94, 96, 2, 35, 61, 59, 16, 72, 17, 38, 33, 29, 36, 42, 4, 56, 14, 65, 43, 37, 63, 69, 66, 64, 76, 74, 3, 55, 21, 85, 8, 90, 6, 41, 1, 99]\n"
          ]
        }
      ],
      "source": [
        "# We're selecting 10 indexes of people we're going to infect\n",
        "currently_infected = random.sample(range(100), 10)\n",
        "\n",
        "for i in currently_infected:\n",
        "    my_population[i].infect(5)\n",
        "\n",
        "\n",
        "print (\"Day 1, number of people sick:\" + str(len(currently_infected)))\n",
        "print (currently_infected)\n",
        "\n",
        "interactions = []\n",
        "person_index = -1\n",
        "for p in my_population:\n",
        "    person_index = person_index + 1\n",
        "\n",
        "    # if person_index is in the currently_sick list, everyone they interact w/ can get sick\n",
        "\n",
        "    p_interactions = []\n",
        "    for i in range(0,10):\n",
        "        r = random.randint(0,99)\n",
        "        p_interactions.append(r)\n",
        "\n",
        "        #If person_index is already sick, everyone they contact, might also get sick\n",
        "\n",
        "        if (person_index in currently_infected):\n",
        "            my_population[r].update()\n",
        "            if (my_population[r].status == \"Infected\" and r not in currently_infected):\n",
        "                currently_infected.append(r)\n",
        "        #If anyone has an infected person in their interactions list, *they* might get infected\n",
        "        if (r in currently_infected):\n",
        "            my_population[person_index].update()\n",
        "            if (my_population[person_index].status == \"Infected\" and person_index not in currently_infected):\n",
        "                currently_infected.append(person_index)\n",
        "    interactions.append(p_interactions)\n",
        "\n",
        "\n",
        "# person_index = -1\n",
        "# for i in interactions:\n",
        "#     person_index = person_index + 1\n",
        "#     print (\"Person:\", person_index, \" interacted with:\", i)\n",
        "\n",
        "print (\"End of Day 1, number of people sick:\", len(currently_infected))\n",
        "print (currently_infected)"
      ]
    },
    {
      "cell_type": "markdown",
      "id": "f86b3a12-460e-4939-ba98-42ec406cca52",
      "metadata": {
        "id": "f86b3a12-460e-4939-ba98-42ec406cca52"
      },
      "source": [
        "## We need \"something\" to manage and hold our People"
      ]
    },
    {
      "cell_type": "code",
      "execution_count": null,
      "id": "1754a1c7-4f89-427b-9161-b891b9c10aaa",
      "metadata": {
        "id": "1754a1c7-4f89-427b-9161-b891b9c10aaa"
      },
      "outputs": [],
      "source": [
        "class Population:\n",
        "    def __init__(self, number=100, interaction=10, percentage_masked=0, percentage_vaccinated = 0):\n",
        "        self.People = []\n",
        "        self.number = number\n",
        "        self.interaction = interaction\n",
        "        self.percentage_masked = percentage_masked\n",
        "\n",
        "        ## Make function value \"percentage_masked\" an attribute\n",
        "        self.percentage_vaccinated = percentage_vaccinated\n",
        "\n",
        "        if (number < 100):\n",
        "            self.number = 100\n",
        "\n",
        "        if (interaction < 10):\n",
        "            self.interaction = 10\n",
        "\n",
        "        ##build our population\n",
        "        patient_Zero = Person()\n",
        "        patient_Zero.infect(5)\n",
        "\n",
        "        self.People.append(patient_Zero)\n",
        "\n",
        "        for i in range(0,number):\n",
        "            p = Person()\n",
        "            if (i < number*(self.percentage_masked/100.0) and self.percentage_masked>0):\n",
        "                p.maskUp(True)\n",
        "\n",
        "            ## When the persons within the percentage of the vaccinated, they will be set to vaccinated\n",
        "            if (i < number*(self.percentage_vaccinated/100.0) and self.percentage_vaccinated>0):\n",
        "                p.isVaccinated(True)\n",
        "\n",
        "            self.People.append(p)\n",
        "\n",
        "\n",
        "\n",
        "    def number_of_sick(self):\n",
        "        sick_Count = 0\n",
        "        for j in self.People:\n",
        "            if (j.status == \"Infected\"):\n",
        "                sick_Count = sick_Count + 1\n",
        "\n",
        "        return sick_Count\n",
        "\n",
        "    def number_of_recovered(self):\n",
        "        recovered_Count = 0\n",
        "        for j in self.People:\n",
        "            if (j.status == \"Recovered\"):\n",
        "                recovered_Count = recovered_Count + 1\n",
        "\n",
        "        return recovered_Count\n",
        "\n",
        "    def number_of_susceptible(self):\n",
        "        susceptible_Count = 0\n",
        "        for j in self.People:\n",
        "            if (j.status == \"Susceptible\"):\n",
        "                susceptible_Count = susceptible_Count + 1\n",
        "\n",
        "        return susceptible_Count\n",
        "\n",
        "    def number_masked(self):\n",
        "        masked_Count = 0\n",
        "        for j in self.People:\n",
        "            if (j.masked):\n",
        "                masked_Count = masked_Count + 1\n",
        "\n",
        "        return masked_Count\n",
        "\n",
        "    def number_vaccinated(self):\n",
        "      vaccinated_Count = 0\n",
        "      for j in self.People:\n",
        "        if (j.vaccinated):\n",
        "          vaccinated_Count += 1\n",
        "\n",
        "      return vaccinated_Count\n",
        "\n",
        "    def number_masked_sick(self):\n",
        "        masked_SickCount = 0\n",
        "        for j in self.People:\n",
        "            if (j.masked and j.status == \"Infected\"):\n",
        "                masked_SickCount = masked_SickCount + 1\n",
        "\n",
        "        return masked_SickCount\n",
        "\n",
        "    def number_vaccinated_sick(self):\n",
        "      vaccinated_SickCount = 0\n",
        "      for j in self.People:\n",
        "        if (j.vaccinated and j.status == \"Infected\"):\n",
        "          vaccinated_SickCount += 1\n",
        "\n",
        "      return vaccinated_SickCount\n",
        "\n",
        "    ## Here's the brains of the Population class (and our code)\n",
        "    ## the update will be ran everyday (meaning, every iteration of our while loop)\n",
        "    ## build interaction tables (who interacted with whom)\n",
        "    ## if marked sick they must roll to see if (one per interaction)\n",
        "    ## if I interacted with 10 people, each of them must roll and vice versa if they\n",
        "    ## they were marked as infected\n",
        "    def update(self):\n",
        "        ## people who are might get sick\n",
        "        might_Get_Sick = []\n",
        "\n",
        "        for person in self.People:\n",
        "\n",
        "            #clear out your interactions per day\n",
        "            person.Interaction = []\n",
        "\n",
        "            ##These are the n number of people that you interact with\n",
        "            for i in range(0, self.interaction):\n",
        "                r = random.randint(0,self.number)\n",
        "                person.Interaction.append(r)\n",
        "\n",
        "            ##if \"person\" is Infected, every single person they interacted with might get sick\n",
        "            if (person.status == \"Infected\"):\n",
        "                person.update_days_sick()\n",
        "\n",
        "                for m in person.Interaction:\n",
        "                    if (self.People[m].status == \"Susceptible\"): #only susceptible people can get sick\n",
        "                        might_Get_Sick.append(self.People[m])\n",
        "\n",
        "            ##if \"person\" is susceptible and they interact w/ someone who is \"infected\"\n",
        "            ##person gets added to the \"might get sick\"\n",
        "            if (person.status == \"Susceptible\"):\n",
        "                for m in person.Interaction:\n",
        "                    if (self.People[m].status == \"Infected\"):\n",
        "                        might_Get_Sick.append(person)\n",
        "\n",
        "        ##Now! We're going to roll through our \"Might Get Sick\" and they each roll a die\n",
        "        ##this is only a list of susceptible people\n",
        "        for p in might_Get_Sick:\n",
        "            p.roll_for_infection()\n",
        ""
      ]
    },
    {
      "cell_type": "markdown",
      "id": "791a50f6-5ef7-40c8-8ec2-8003386e2a5c",
      "metadata": {
        "id": "791a50f6-5ef7-40c8-8ec2-8003386e2a5c"
      },
      "source": [
        "## Lets build a population\n",
        "Build a population of 1000 with 10 initally infected people:\n",
        "`myCommunity = Population(1000,10)`"
      ]
    },
    {
      "cell_type": "code",
      "execution_count": null,
      "id": "202dbdf6-18f6-48cb-9b1e-4b4f01c9d95d",
      "metadata": {
        "colab": {
          "base_uri": "https://localhost:8080/"
        },
        "id": "202dbdf6-18f6-48cb-9b1e-4b4f01c9d95d",
        "outputId": "d7d234ec-267b-468b-bbdb-d356aebdefd0"
      },
      "outputs": [
        {
          "output_type": "stream",
          "name": "stdout",
          "text": [
            "day: 0 Number of sick: 1\n",
            "day: 1 Number of sick: 8\n",
            "day: 2 Number of sick: 51\n",
            "day: 3 Number of sick: 273\n",
            "day: 4 Number of sick: 800\n",
            "day: 5 Number of sick: 989\n",
            "day: 6 Number of sick: 950\n",
            "day: 7 Number of sick: 728\n",
            "day: 8 Number of sick: 201\n",
            "day: 9 Number of sick: 4\n",
            "day: 10 Number of sick: 0\n",
            "Number recovered: 1001\n",
            "Number susceptible: 0\n"
          ]
        }
      ],
      "source": [
        "# Population( size_of_population, number_of_interactions, percentage_wearing_masks, percentage_vaccinated)\n",
        "myCommunity = Population(1000, 25)\n",
        "day = 0\n",
        "my_plot = []\n",
        "number_sick = myCommunity.number_of_sick()\n",
        "while (number_sick > 0):\n",
        "    number_sick = myCommunity.number_of_sick()\n",
        "    number_recovered = myCommunity.number_of_recovered()\n",
        "    number_masked = myCommunity.number_masked()\n",
        "    number_masked_sick = myCommunity.number_masked_sick()\n",
        "    number_vaccinated = myCommunity.number_vaccinated()\n",
        "    number_vaccinated_sick = myCommunity.number_vaccinated_sick()\n",
        "\n",
        "    my_plot.append([day, number_sick, number_recovered])\n",
        "\n",
        "    if (myCommunity.percentage_masked > 0):\n",
        "        print (\"day:\", day, \"Number of sick:\", number_sick, \"Sick Mask Wearers:\", number_masked_sick, \"Mask Wearers:\", number_masked, \"Sick Vaccinated:\", number_vaccinated_sick, \"Vaccinated:\", number_vaccinated)\n",
        "    else:\n",
        "        print (\"day:\", day, \"Number of sick:\", number_sick)\n",
        "\n",
        "    day = day+1\n",
        "    myCommunity.update()\n",
        "\n",
        "#print (\"day:\", day, \"Number of sick:\", myCommunity.number_of_sick())\n",
        "print (\"Number recovered:\", myCommunity.number_of_recovered())\n",
        "print (\"Number susceptible:\", myCommunity.number_of_susceptible())\n",
        "\n",
        "#print (my_plot)"
      ]
    },
    {
      "cell_type": "markdown",
      "id": "54e0220b-63cf-4cd2-b594-459383d0014a",
      "metadata": {
        "id": "54e0220b-63cf-4cd2-b594-459383d0014a"
      },
      "source": [
        "# &#128202; Plot your results"
      ]
    },
    {
      "cell_type": "code",
      "execution_count": null,
      "id": "48b285d4-abd9-4044-9621-2dcb8b24e08e",
      "metadata": {
        "id": "48b285d4-abd9-4044-9621-2dcb8b24e08e"
      },
      "outputs": [],
      "source": [
        "import pandas as pd\n",
        "import matplotlib.pyplot as plt"
      ]
    },
    {
      "cell_type": "code",
      "execution_count": null,
      "id": "0378df8e-349a-4fcf-b5ac-979ccced8ae4",
      "metadata": {
        "id": "0378df8e-349a-4fcf-b5ac-979ccced8ae4"
      },
      "outputs": [],
      "source": [
        "df = pd.DataFrame(my_plot, columns=['day','number_sick', 'number_recovered'])"
      ]
    },
    {
      "cell_type": "code",
      "execution_count": null,
      "id": "1d85771a-13a5-47f8-b830-79094319b2e2",
      "metadata": {
        "colab": {
          "base_uri": "https://localhost:8080/",
          "height": 394
        },
        "id": "1d85771a-13a5-47f8-b830-79094319b2e2",
        "outputId": "2c40124a-7900-466e-a19c-fdcd1eefd45b"
      },
      "outputs": [
        {
          "output_type": "execute_result",
          "data": {
            "text/plain": [
              "    day  number_sick  number_recovered\n",
              "0     0            1                 0\n",
              "1     1            8                 0\n",
              "2     2           51                 0\n",
              "3     3          273                 0\n",
              "4     4          800                 0\n",
              "5     5          989                 8\n",
              "6     6          950                51\n",
              "7     7          728               273\n",
              "8     8          201               800\n",
              "9     9            4               997\n",
              "10   10            0              1001"
            ],
            "text/html": [
              "\n",
              "  <div id=\"df-43c2f63e-a092-473b-895e-6ca2381a3e17\">\n",
              "    <div class=\"colab-df-container\">\n",
              "      <div>\n",
              "<style scoped>\n",
              "    .dataframe tbody tr th:only-of-type {\n",
              "        vertical-align: middle;\n",
              "    }\n",
              "\n",
              "    .dataframe tbody tr th {\n",
              "        vertical-align: top;\n",
              "    }\n",
              "\n",
              "    .dataframe thead th {\n",
              "        text-align: right;\n",
              "    }\n",
              "</style>\n",
              "<table border=\"1\" class=\"dataframe\">\n",
              "  <thead>\n",
              "    <tr style=\"text-align: right;\">\n",
              "      <th></th>\n",
              "      <th>day</th>\n",
              "      <th>number_sick</th>\n",
              "      <th>number_recovered</th>\n",
              "    </tr>\n",
              "  </thead>\n",
              "  <tbody>\n",
              "    <tr>\n",
              "      <th>0</th>\n",
              "      <td>0</td>\n",
              "      <td>1</td>\n",
              "      <td>0</td>\n",
              "    </tr>\n",
              "    <tr>\n",
              "      <th>1</th>\n",
              "      <td>1</td>\n",
              "      <td>8</td>\n",
              "      <td>0</td>\n",
              "    </tr>\n",
              "    <tr>\n",
              "      <th>2</th>\n",
              "      <td>2</td>\n",
              "      <td>51</td>\n",
              "      <td>0</td>\n",
              "    </tr>\n",
              "    <tr>\n",
              "      <th>3</th>\n",
              "      <td>3</td>\n",
              "      <td>273</td>\n",
              "      <td>0</td>\n",
              "    </tr>\n",
              "    <tr>\n",
              "      <th>4</th>\n",
              "      <td>4</td>\n",
              "      <td>800</td>\n",
              "      <td>0</td>\n",
              "    </tr>\n",
              "    <tr>\n",
              "      <th>5</th>\n",
              "      <td>5</td>\n",
              "      <td>989</td>\n",
              "      <td>8</td>\n",
              "    </tr>\n",
              "    <tr>\n",
              "      <th>6</th>\n",
              "      <td>6</td>\n",
              "      <td>950</td>\n",
              "      <td>51</td>\n",
              "    </tr>\n",
              "    <tr>\n",
              "      <th>7</th>\n",
              "      <td>7</td>\n",
              "      <td>728</td>\n",
              "      <td>273</td>\n",
              "    </tr>\n",
              "    <tr>\n",
              "      <th>8</th>\n",
              "      <td>8</td>\n",
              "      <td>201</td>\n",
              "      <td>800</td>\n",
              "    </tr>\n",
              "    <tr>\n",
              "      <th>9</th>\n",
              "      <td>9</td>\n",
              "      <td>4</td>\n",
              "      <td>997</td>\n",
              "    </tr>\n",
              "    <tr>\n",
              "      <th>10</th>\n",
              "      <td>10</td>\n",
              "      <td>0</td>\n",
              "      <td>1001</td>\n",
              "    </tr>\n",
              "  </tbody>\n",
              "</table>\n",
              "</div>\n",
              "      <button class=\"colab-df-convert\" onclick=\"convertToInteractive('df-43c2f63e-a092-473b-895e-6ca2381a3e17')\"\n",
              "              title=\"Convert this dataframe to an interactive table.\"\n",
              "              style=\"display:none;\">\n",
              "        \n",
              "  <svg xmlns=\"http://www.w3.org/2000/svg\" height=\"24px\"viewBox=\"0 0 24 24\"\n",
              "       width=\"24px\">\n",
              "    <path d=\"M0 0h24v24H0V0z\" fill=\"none\"/>\n",
              "    <path d=\"M18.56 5.44l.94 2.06.94-2.06 2.06-.94-2.06-.94-.94-2.06-.94 2.06-2.06.94zm-11 1L8.5 8.5l.94-2.06 2.06-.94-2.06-.94L8.5 2.5l-.94 2.06-2.06.94zm10 10l.94 2.06.94-2.06 2.06-.94-2.06-.94-.94-2.06-.94 2.06-2.06.94z\"/><path d=\"M17.41 7.96l-1.37-1.37c-.4-.4-.92-.59-1.43-.59-.52 0-1.04.2-1.43.59L10.3 9.45l-7.72 7.72c-.78.78-.78 2.05 0 2.83L4 21.41c.39.39.9.59 1.41.59.51 0 1.02-.2 1.41-.59l7.78-7.78 2.81-2.81c.8-.78.8-2.07 0-2.86zM5.41 20L4 18.59l7.72-7.72 1.47 1.35L5.41 20z\"/>\n",
              "  </svg>\n",
              "      </button>\n",
              "      \n",
              "  <style>\n",
              "    .colab-df-container {\n",
              "      display:flex;\n",
              "      flex-wrap:wrap;\n",
              "      gap: 12px;\n",
              "    }\n",
              "\n",
              "    .colab-df-convert {\n",
              "      background-color: #E8F0FE;\n",
              "      border: none;\n",
              "      border-radius: 50%;\n",
              "      cursor: pointer;\n",
              "      display: none;\n",
              "      fill: #1967D2;\n",
              "      height: 32px;\n",
              "      padding: 0 0 0 0;\n",
              "      width: 32px;\n",
              "    }\n",
              "\n",
              "    .colab-df-convert:hover {\n",
              "      background-color: #E2EBFA;\n",
              "      box-shadow: 0px 1px 2px rgba(60, 64, 67, 0.3), 0px 1px 3px 1px rgba(60, 64, 67, 0.15);\n",
              "      fill: #174EA6;\n",
              "    }\n",
              "\n",
              "    [theme=dark] .colab-df-convert {\n",
              "      background-color: #3B4455;\n",
              "      fill: #D2E3FC;\n",
              "    }\n",
              "\n",
              "    [theme=dark] .colab-df-convert:hover {\n",
              "      background-color: #434B5C;\n",
              "      box-shadow: 0px 1px 3px 1px rgba(0, 0, 0, 0.15);\n",
              "      filter: drop-shadow(0px 1px 2px rgba(0, 0, 0, 0.3));\n",
              "      fill: #FFFFFF;\n",
              "    }\n",
              "  </style>\n",
              "\n",
              "      <script>\n",
              "        const buttonEl =\n",
              "          document.querySelector('#df-43c2f63e-a092-473b-895e-6ca2381a3e17 button.colab-df-convert');\n",
              "        buttonEl.style.display =\n",
              "          google.colab.kernel.accessAllowed ? 'block' : 'none';\n",
              "\n",
              "        async function convertToInteractive(key) {\n",
              "          const element = document.querySelector('#df-43c2f63e-a092-473b-895e-6ca2381a3e17');\n",
              "          const dataTable =\n",
              "            await google.colab.kernel.invokeFunction('convertToInteractive',\n",
              "                                                     [key], {});\n",
              "          if (!dataTable) return;\n",
              "\n",
              "          const docLinkHtml = 'Like what you see? Visit the ' +\n",
              "            '<a target=\"_blank\" href=https://colab.research.google.com/notebooks/data_table.ipynb>data table notebook</a>'\n",
              "            + ' to learn more about interactive tables.';\n",
              "          element.innerHTML = '';\n",
              "          dataTable['output_type'] = 'display_data';\n",
              "          await google.colab.output.renderOutput(dataTable, element);\n",
              "          const docLink = document.createElement('div');\n",
              "          docLink.innerHTML = docLinkHtml;\n",
              "          element.appendChild(docLink);\n",
              "        }\n",
              "      </script>\n",
              "    </div>\n",
              "  </div>\n",
              "  "
            ]
          },
          "metadata": {},
          "execution_count": 79
        }
      ],
      "source": [
        "df"
      ]
    },
    {
      "cell_type": "code",
      "execution_count": null,
      "id": "67eafb8e-5193-44f9-b6f4-8c612213fc68",
      "metadata": {
        "colab": {
          "base_uri": "https://localhost:8080/",
          "height": 449
        },
        "id": "67eafb8e-5193-44f9-b6f4-8c612213fc68",
        "outputId": "06f0182d-00fa-4dc4-fa86-113f0709e76c"
      },
      "outputs": [
        {
          "output_type": "display_data",
          "data": {
            "text/plain": [
              "<Figure size 640x480 with 1 Axes>"
            ],
            "image/png": "[encoded data removed]"
          },
          "metadata": {}
        }
      ],
      "source": [
        "fig = plt.figure()\n",
        "ax = plt.gca()\n",
        "fig = df.plot(kind='line', x='day', y='number_sick', ax=ax).get_figure()\n",
        "plt.savefig('test.png', bbox_inches='tight')\n",
        "plt.show()"
      ]
    },
    {
      "cell_type": "code",
      "execution_count": null,
      "id": "0f39ff0a-518b-49b8-b4e8-62a770dc8ef3",
      "metadata": {
        "colab": {
          "base_uri": "https://localhost:8080/",
          "height": 449
        },
        "id": "0f39ff0a-518b-49b8-b4e8-62a770dc8ef3",
        "outputId": "e17c0aab-30e8-4fe3-de82-b4458099f80e"
      },
      "outputs": [
        {
          "output_type": "display_data",
          "data": {
            "text/plain": [
              "<Figure size 640x480 with 1 Axes>"
            ],
            "image/png": "[encoded data removed]"
          },
          "metadata": {}
        }
      ],
      "source": [
        "fig = plt.figure()\n",
        "ax = plt.gca()\n",
        "fig = df.plot(kind='line', x='day', y='number_recovered', ax=ax).get_figure()\n",
        "plt.savefig('test.png', bbox_inches='tight')\n",
        "plt.show()"
      ]
    },
    {
      "cell_type": "code",
      "execution_count": null,
      "id": "ee2eca21-c03b-4e99-8d65-cb3c848b2ded",
      "metadata": {
        "colab": {
          "base_uri": "https://localhost:8080/",
          "height": 449
        },
        "id": "ee2eca21-c03b-4e99-8d65-cb3c848b2ded",
        "outputId": "219d11db-cd69-4d21-9d54-525c84d5c138"
      },
      "outputs": [
        {
          "output_type": "display_data",
          "data": {
            "text/plain": [
              "<Figure size 640x480 with 1 Axes>"
            ],
            "image/png": "[encoded data removed]"
          },
          "metadata": {}
        }
      ],
      "source": [
        "fig = plt.figure()\n",
        "ax1 = plt.gca()\n",
        "fig1 = df.plot(kind='line', x='day', y='number_recovered', ax=ax1).get_figure()\n",
        "fig2 = df.plot(kind='line', x='day', y='number_sick', ax=ax1).get_figure()\n",
        "plt.savefig('test.png')\n",
        "plt.show()"
      ]
    },
    {
      "cell_type": "code",
      "execution_count": null,
      "id": "bbd9818d-2e03-40e7-b2ed-ce346978c812",
      "metadata": {
        "id": "bbd9818d-2e03-40e7-b2ed-ce346978c812"
      },
      "outputs": [],
      "source": [
        "df.to_csv(\"mydata.csv\")"
      ]
    },
    {
      "cell_type": "markdown",
      "id": "d7f7f4a2-4646-4b37-a6dc-7dcd6432fa92",
      "metadata": {
        "id": "d7f7f4a2-4646-4b37-a6dc-7dcd6432fa92"
      },
      "source": [
        "# Adding an \"Intervention\": Incorporating Mask Wearing\n",
        "\n",
        "Ref: Mask Effectiveness: https://www.cdc.gov/mmwr/volumes/71/wr/mm7106e1.htm\n",
        "\n",
        "Modify the `myCommunity = Population(40000,5,0)` decleration.\n",
        "\n",
        "_Syntax:_\n",
        "\n",
        "```Population( size_of_population, number_of_interactions, percentage_wearing_masks)```\n"
      ]
    },
    {
      "cell_type": "code",
      "execution_count": null,
      "id": "216e8937-3863-4f65-95e3-0d9bf72bbef2",
      "metadata": {
        "id": "216e8937-3863-4f65-95e3-0d9bf72bbef2"
      },
      "outputs": [],
      "source": []
    }
  ],
  "metadata": {
    "IMAGE_NAME": "taccsciapps/ds-nb-img:base-0.1.0",
    "UUID": "f5fba3ea-e6a5-11ec-b09d-b6ecb6431114",
    "kernelspec": {
      "display_name": "Python 3 (ipykernel)",
      "language": "python",
      "name": "python3"
    },
    "language_info": {
      "codemirror_mode": {
        "name": "ipython",
        "version": 3
      },
      "file_extension": ".py",
      "mimetype": "text/x-python",
      "name": "python",
      "nbconvert_exporter": "python",
      "pygments_lexer": "ipython3",
      "version": "3.9.10"
    },
    "colab": {
      "provenance": []
    }
  },
  "nbformat": 4,
  "nbformat_minor": 5
}